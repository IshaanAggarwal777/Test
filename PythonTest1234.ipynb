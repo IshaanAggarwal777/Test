{
  "nbformat": 4,
  "nbformat_minor": 0,
  "metadata": {
    "colab": {
      "provenance": [],
      "authorship_tag": "ABX9TyM/ayhpUqgEZE900KbB+Bl4",
      "include_colab_link": true
    },
    "kernelspec": {
      "name": "python3",
      "display_name": "Python 3"
    },
    "language_info": {
      "name": "python"
    }
  },
  "cells": [
    {
      "cell_type": "markdown",
      "metadata": {
        "id": "view-in-github",
        "colab_type": "text"
      },
      "source": [
        "<a href=\"https://colab.research.google.com/github/IshaanAggarwal777/Test/blob/main/PythonTest1234.ipynb\" target=\"_parent\"><img src=\"https://colab.research.google.com/assets/colab-badge.svg\" alt=\"Open In Colab\"/></a>"
      ]
    },
    {
      "cell_type": "code",
      "execution_count": null,
      "metadata": {
        "id": "juQ2GrUjEWZD",
        "outputId": "b9e54ce5-2064-4954-fa75-88293f742297",
        "colab": {
          "base_uri": "https://localhost:8080/"
        }
      },
      "outputs": [
        {
          "output_type": "stream",
          "name": "stdout",
          "text": [
            "ishaan\n"
          ]
        }
      ],
      "source": [
        "print(\"ishaan\")\n"
      ]
    },
    {
      "cell_type": "code",
      "source": [
        "print(\"aggarwal\")\n"
      ],
      "metadata": {
        "id": "scMfGZo6EZCZ",
        "outputId": "a8ee6c7d-62bb-49b6-dace-fe12d621834d",
        "colab": {
          "base_uri": "https://localhost:8080/"
        }
      },
      "execution_count": 1,
      "outputs": [
        {
          "output_type": "stream",
          "name": "stdout",
          "text": [
            "aggarwal\n"
          ]
        }
      ]
    },
    {
      "cell_type": "code",
      "source": [],
      "metadata": {
        "id": "lYOsf7LoHH3w"
      },
      "execution_count": null,
      "outputs": []
    }
  ]
}